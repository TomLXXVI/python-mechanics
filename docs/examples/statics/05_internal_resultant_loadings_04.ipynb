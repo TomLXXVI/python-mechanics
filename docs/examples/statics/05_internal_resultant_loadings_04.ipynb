{
 "cells": [
  {
   "cell_type": "markdown",
   "id": "8688887f76f11996",
   "metadata": {},
   "source": [
    "# Internal Resultant Loadings in a Section of a Beam, Example 4"
   ]
  },
  {
   "cell_type": "markdown",
   "id": "5abafe6c948b40bd",
   "metadata": {},
   "source": [
    "In this notebook example 1.3 from the book **Mechanics of Materials, 10th Edition in SI units by R.C. Hibbeler** will be solved using the *python-mechanics* library. To do this exercise, we need to import the following from the library:"
   ]
  },
  {
   "cell_type": "code",
   "execution_count": 1,
   "id": "9cd0660ba4736f33",
   "metadata": {
    "ExecuteTime": {
     "end_time": "2024-06-10T19:04:34.365259Z",
     "start_time": "2024-06-10T19:04:33.368732Z"
    }
   },
   "outputs": [],
   "source": [
    "import numpy as np\n",
    "from mechanics import Quantity\n",
    "from mechanics.statics import (\n",
    "    Force,\n",
    "    DistributedLoad2D,\n",
    "    System,\n",
    "    TwoForceMember2D,\n",
    "    Beam2D\n",
    ")"
   ]
  },
  {
   "cell_type": "code",
   "execution_count": 2,
   "id": "552ea8f9f838052e",
   "metadata": {
    "ExecuteTime": {
     "end_time": "2024-06-10T19:04:34.369081Z",
     "start_time": "2024-06-10T19:04:34.366544Z"
    }
   },
   "outputs": [],
   "source": [
    "Q_ = Quantity"
   ]
  },
  {
   "cell_type": "markdown",
   "id": "d4c44f377514728a",
   "metadata": {},
   "source": [
    "![example 4](./images/example_4.png)"
   ]
  },
  {
   "cell_type": "markdown",
   "id": "3e8d826449af689",
   "metadata": {},
   "source": [
    "We choose the origin of our cartesian coordinate system in point A. The horizontal positive x-axis follows the centerline of the wooden beam pointing to the right. The vertical positive y-axis through the origin in point A is pointing upward.\n",
    "\n",
    "We need to find the resultant internal loading in point G on the wooden beam. Looking at only the wooden beam, we see that we have 4 unknowns: (1) the magnitude of the reaction force of which the action line coincides with rod AB, (2) the magnitude of the reaction force in point D, and (3)+(4) the magnitude and the direction of the reaction force in point E. This means that we cannot directly solve the free body diagram of only the wooden beam. However, if we take a look at the construction as a whole, we see that the hinged connection of this construction to the wall has 3 unknowns: (1) the reaction force of the hinge in point C has only one unknown (its magnitude), (2)+(3) and the reaction force of the hinge in point E has two unknowns (both its magnitude and its direction). Having 3 equations at our disposal for determining the static equilibrium of the construction, we can solve for these three unknowns. We will do this using the class `System`, which represents an system of forces and/or torques acting on a arbitrary body (2D or 3D). After having defined all known and unknown forces, we can pass these to an instance of class `System` and then call its `solve()` method to get the solution for the unknown forces.  "
   ]
  },
  {
   "cell_type": "markdown",
   "id": "b1bb5160727343ab",
   "metadata": {},
   "source": [
    "## Define the Known and Unknown Forces in the Complete Construction"
   ]
  },
  {
   "cell_type": "markdown",
   "id": "b4321b23757a2c4",
   "metadata": {},
   "source": [
    "### Known External Force at Position A"
   ]
  },
  {
   "cell_type": "code",
   "execution_count": 3,
   "id": "538d69543fc38df5",
   "metadata": {
    "ExecuteTime": {
     "end_time": "2024-06-10T19:04:34.376389Z",
     "start_time": "2024-06-10T19:04:34.370089Z"
    }
   },
   "outputs": [],
   "source": [
    "F_A = Force(\n",
    "    action_point=Q_([0.0, 0.0], 'm'),\n",
    "    magnitude=Q_(1500, 'N'),\n",
    "    theta=Q_(-90, 'deg')\n",
    ")"
   ]
  },
  {
   "cell_type": "markdown",
   "id": "19809ef5dcb62cc8",
   "metadata": {},
   "source": [
    "### Known Distributed Loading between Positions D and E"
   ]
  },
  {
   "cell_type": "code",
   "execution_count": 4,
   "id": "7897a846e4c5adb7",
   "metadata": {
    "ExecuteTime": {
     "end_time": "2024-06-10T19:04:34.387504Z",
     "start_time": "2024-06-10T19:04:34.377397Z"
    }
   },
   "outputs": [],
   "source": [
    "q = DistributedLoad2D(\n",
    "    points=[\n",
    "        (Q_(2, 'm'), Q_(-600, 'N / m')),\n",
    "        (Q_(5, 'm'), Q_(0, 'N / m'))\n",
    "    ]\n",
    ")"
   ]
  },
  {
   "cell_type": "markdown",
   "id": "a2cce11b6494f158",
   "metadata": {},
   "source": [
    "### Unknown Force at Position C"
   ]
  },
  {
   "cell_type": "markdown",
   "id": "808a3898b5a6483e",
   "metadata": {},
   "source": [
    "At position C the joint with the wall is pin connected, which means that no external moment can be exerted. Also, because of the rod between positions C and B, we can assume that the reaction force in position C will be aligned with the rod, i.e. the reaction force will have a horizontal direction. So, only the magnitude of the force is an unknown."
   ]
  },
  {
   "cell_type": "code",
   "execution_count": 5,
   "id": "e61bce773cfe9416",
   "metadata": {
    "ExecuteTime": {
     "end_time": "2024-06-10T19:04:34.392555Z",
     "start_time": "2024-06-10T19:04:34.388509Z"
    }
   },
   "outputs": [],
   "source": [
    "F_C = Force(\n",
    "    action_point=Q_([5.0, 1.5], 'm'),\n",
    "    magnitude='F_C',\n",
    "    theta=Q_(0, 'deg')\n",
    ")"
   ]
  },
  {
   "cell_type": "markdown",
   "id": "f22ec0bedd09ca84",
   "metadata": {},
   "source": [
    "### Unknown Force at Position E"
   ]
  },
  {
   "cell_type": "markdown",
   "id": "95bf836668c793a8",
   "metadata": {},
   "source": [
    "At position E the joint between the wooden beam and the wall is also pin connected. However, in this case no assumption can be made about the direction of the reaction force exerted by the hinge on the beam. So, here we have two unknowns: the magnitude and the direction of the force."
   ]
  },
  {
   "cell_type": "code",
   "execution_count": 6,
   "id": "8c139fb042af6919",
   "metadata": {
    "ExecuteTime": {
     "end_time": "2024-06-10T19:04:34.397932Z",
     "start_time": "2024-06-10T19:04:34.392555Z"
    }
   },
   "outputs": [],
   "source": [
    "F_E = Force(\n",
    "    action_point=Q_([5.0, 0.0], 'm'),\n",
    "    magnitude='F_E',\n",
    "    theta='theta_E'\n",
    ")"
   ]
  },
  {
   "cell_type": "markdown",
   "id": "d2348a1fef84e5e9",
   "metadata": {},
   "source": [
    "## Solve the Complete Construction for the Unknown Forces "
   ]
  },
  {
   "cell_type": "markdown",
   "id": "6f6c44434aa748b5",
   "metadata": {},
   "source": [
    "We have a planar system of 4 forces with 3 unknowns. This system can be solved with the three equations we have available for the static equilibrium in the xy-plane. "
   ]
  },
  {
   "cell_type": "code",
   "execution_count": 7,
   "id": "70c478245380e06b",
   "metadata": {
    "ExecuteTime": {
     "end_time": "2024-06-10T19:04:34.468174Z",
     "start_time": "2024-06-10T19:04:34.398940Z"
    }
   },
   "outputs": [
    {
     "name": "stdout",
     "output_type": "stream",
     "text": [
      "F_C: <x: 6200.000 N; y: 0.000 N; z: 0.000 N>\n",
      "F_E: <x: -6200.000 N; y: 2400.000 N; z: 0.000 N>\n"
     ]
    }
   ],
   "source": [
    "sys = System(\n",
    "    forces=[F_A, F_C, F_E],\n",
    "    distributed_loads=[q]\n",
    ")\n",
    "forces, torques = sys.solve()\n",
    "for name, force in forces.items():\n",
    "    print(f\"{name}: {force}\")\n",
    "for name, torque in torques.items():\n",
    "    print(f\"{name}: {torque}\")"
   ]
  },
  {
   "cell_type": "markdown",
   "id": "b85977ade821f611",
   "metadata": {},
   "source": [
    "## Reaction Forces in points A and D on the Beam"
   ]
  },
  {
   "cell_type": "markdown",
   "id": "4005a27a52384294",
   "metadata": {},
   "source": [
    "The reaction force exerted by the hinged support in point A only has an unknown magnitude. The same is true for the reaction force exerted by the hinge in point D. The reaction force exerted by the hinge in point E has already been determined. So, now we have only two unknowns left, which we can solve."
   ]
  },
  {
   "cell_type": "code",
   "execution_count": 8,
   "id": "bfa2bd7a6c387935",
   "metadata": {
    "ExecuteTime": {
     "end_time": "2024-06-10T19:04:34.473310Z",
     "start_time": "2024-06-10T19:04:34.468174Z"
    }
   },
   "outputs": [],
   "source": [
    "sup_A = TwoForceMember2D(\n",
    "    name='sup_A',\n",
    "    position=Q_(0, 'm'),\n",
    "    theta=Q_(np.arctan2(1.5, 2), 'rad')\n",
    ")\n",
    "\n",
    "sup_D = TwoForceMember2D(\n",
    "    name='sup_D',\n",
    "    position=Q_(2, 'm'),\n",
    "    theta=Q_(90, 'deg')\n",
    ")"
   ]
  },
  {
   "cell_type": "markdown",
   "id": "6cd116fbf979c334",
   "metadata": {},
   "source": [
    "The reaction force exerted by the hinge in point E can be retrieved from the system we solved above:"
   ]
  },
  {
   "cell_type": "code",
   "execution_count": 9,
   "id": "5aef0b80ac62f7ba",
   "metadata": {
    "ExecuteTime": {
     "end_time": "2024-06-10T19:04:34.478414Z",
     "start_time": "2024-06-10T19:04:34.474315Z"
    }
   },
   "outputs": [],
   "source": [
    "F_E = forces['F_E']"
   ]
  },
  {
   "cell_type": "markdown",
   "id": "b1ef1a7298d8bfd6",
   "metadata": {},
   "source": [
    "The external action force in point A and the distributed load were already defined above."
   ]
  },
  {
   "cell_type": "code",
   "execution_count": 10,
   "id": "73cb68a9f37a4424",
   "metadata": {
    "ExecuteTime": {
     "end_time": "2024-06-10T19:04:34.528600Z",
     "start_time": "2024-06-10T19:04:34.480423Z"
    }
   },
   "outputs": [
    {
     "name": "stdout",
     "output_type": "stream",
     "text": [
      "sup_A: <x: 6200.000 N; y: 4650.000 N; z: 0.000 N>\n",
      "sup_D: <x: -0.000 N; y: -4650.000 N; z: 0.000 N>\n"
     ]
    }
   ],
   "source": [
    "beam = Beam2D(\n",
    "    length=Q_(5, 'm'),\n",
    "    loads=[F_A, q, F_E],\n",
    "    supports=[sup_A, sup_D]\n",
    ")\n",
    "forces, torques = beam.get_reactions()\n",
    "for name, force in forces.items():\n",
    "    print(f\"{name}: {force}\")\n",
    "for name, torque in torques.items():\n",
    "    print(f\"{name}: {torque}\")"
   ]
  },
  {
   "cell_type": "markdown",
   "id": "e910b7a9d1ffac26",
   "metadata": {},
   "source": [
    "## Resultant Internal Loadings acting on the Beam in Cross-Section G"
   ]
  },
  {
   "cell_type": "code",
   "execution_count": 11,
   "id": "fc2f281520f2e950",
   "metadata": {
    "ExecuteTime": {
     "end_time": "2024-06-10T19:04:34.557459Z",
     "start_time": "2024-06-10T19:04:34.529607Z"
    }
   },
   "outputs": [
    {
     "name": "stdout",
     "output_type": "stream",
     "text": [
      "F_x: -6200 N\n",
      "F_y: -3150 N\n",
      "M_z: 3150 N·m\n"
     ]
    }
   ],
   "source": [
    "internal_load_G = beam.cut(x=Q_(1, 'm'), side='left')\n",
    "\n",
    "print(f\"F_x: {internal_load_G['F_x'].to('N'):~P.0f}\")\n",
    "print(f\"F_y: {internal_load_G['F_y'].to('N'):~P.0f}\")\n",
    "print(f\"M_z: {internal_load_G['M_z'].to('N * m'):~P.0f}\")"
   ]
  },
  {
   "cell_type": "code",
   "execution_count": null,
   "id": "39e5c13406550a4f",
   "metadata": {
    "ExecuteTime": {
     "end_time": "2024-06-10T19:04:34.560681Z",
     "start_time": "2024-06-10T19:04:34.558467Z"
    }
   },
   "outputs": [],
   "source": []
  }
 ],
 "metadata": {
  "kernelspec": {
   "display_name": "Python 3 (ipykernel)",
   "language": "python",
   "name": "python3"
  },
  "language_info": {
   "codemirror_mode": {
    "name": "ipython",
    "version": 3
   },
   "file_extension": ".py",
   "mimetype": "text/x-python",
   "name": "python",
   "nbconvert_exporter": "python",
   "pygments_lexer": "ipython3",
   "version": "3.12.3"
  }
 },
 "nbformat": 4,
 "nbformat_minor": 5
}
