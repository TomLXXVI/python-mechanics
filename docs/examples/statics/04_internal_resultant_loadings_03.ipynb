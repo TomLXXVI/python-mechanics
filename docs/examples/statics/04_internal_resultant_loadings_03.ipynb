{
 "cells": [
  {
   "metadata": {},
   "cell_type": "markdown",
   "source": "# Internal Resultant Loadings in a Section of a Beam, Example 3",
   "id": "1285f18ae4f9833f"
  },
  {
   "metadata": {},
   "cell_type": "markdown",
   "source": "In this notebook example 1.2 from the book **Mechanics of Materials, 10th Edition in SI units by R.C. Hibbeler** will be solved using the *python-mechanics* library. To do this exercise, we need to import the following items from this library:",
   "id": "9b6508f4fdfdcd6b"
  },
  {
   "metadata": {
    "ExecuteTime": {
     "end_time": "2024-06-10T15:37:34.124727Z",
     "start_time": "2024-06-10T15:37:33.219079Z"
    }
   },
   "cell_type": "code",
   "source": [
    "import numpy as np\n",
    "from mechanics import Quantity\n",
    "from mechanics.statics import (\n",
    "    Force,\n",
    "    Hinge2D,\n",
    "    TwoForceMember2D,\n",
    "    Beam2D\n",
    ")"
   ],
   "id": "7d47360e749799d5",
   "outputs": [],
   "execution_count": 1
  },
  {
   "metadata": {
    "ExecuteTime": {
     "end_time": "2024-06-10T15:37:34.133020Z",
     "start_time": "2024-06-10T15:37:34.125738Z"
    }
   },
   "cell_type": "code",
   "source": "Q_ = Quantity",
   "id": "9605e9b9dac30010",
   "outputs": [],
   "execution_count": 2
  },
  {
   "metadata": {},
   "cell_type": "markdown",
   "source": "*A 500 kg engine is suspended from the crane boom as shown in the image below. Determine the resultant internal loadings acting on the cross section of the boom at point E.*",
   "id": "fc7336a4557ff86a"
  },
  {
   "metadata": {},
   "cell_type": "markdown",
   "source": "![example 3](./images/example_3.png)",
   "id": "770e60337cb67851"
  },
  {
   "metadata": {},
   "cell_type": "markdown",
   "source": "## External Reaction Forces",
   "id": "92f2d204bf0090c5"
  },
  {
   "metadata": {},
   "cell_type": "markdown",
   "source": "Rod CD can be considered as a two-force member, i.e. it acts like a cable. This means that the reaction force exerted on the boom at position C is directed along the centerline of the rod CD. From the dimensions indicated on the figure, the slope angle of the line CD can be calculated with respect to our coordinate system (note that this angle lies in the second quadrant, i.e. between 90° and 180 °).  ",
   "id": "e64ea6357b35e47e"
  },
  {
   "metadata": {
    "ExecuteTime": {
     "end_time": "2024-06-10T15:37:34.220729Z",
     "start_time": "2024-06-10T15:37:34.134045Z"
    }
   },
   "cell_type": "code",
   "source": [
    "sup_C = TwoForceMember2D(\n",
    "    name='sup_C',\n",
    "    position=Q_(2, 'm'),\n",
    "    theta=Q_(np.pi - np.arctan2(1.5, 2), 'rad')\n",
    ")\n",
    "\n",
    "sup_A = Hinge2D(\n",
    "    name='sup_A',\n",
    "    position=Q_(0, 'm')\n",
    ")\n",
    "\n",
    "F_B = Force(\n",
    "    action_point=Q_(3, 'm'),\n",
    "    magnitude=Q_(9.81 * 500, 'N'),\n",
    "    theta=Q_(-90, 'deg'),\n",
    "    name='F_B'\n",
    ")\n",
    "\n",
    "boom = Beam2D(\n",
    "    length=Q_(3, 'm'),\n",
    "    loads=[F_B],\n",
    "    supports=[sup_C, sup_A]\n",
    ")\n",
    "forces, torques = boom.get_reactions()\n",
    "for name, force in forces.items():\n",
    "    print(f\"{name}: {force}\")\n",
    "for name, torque in torques.items():\n",
    "    print(f\"{name}: {torque}\")"
   ],
   "id": "4f768574b980beb",
   "outputs": [
    {
     "name": "stdout",
     "output_type": "stream",
     "text": [
      "sup_A: <x: 9810.000 N; y: -2452.500 N; z: 0.000 N>\n",
      "sup_C: <x: -9810.000 N; y: 7357.500 N; z: 0.000 N>\n"
     ]
    }
   ],
   "execution_count": 3
  },
  {
   "metadata": {},
   "cell_type": "markdown",
   "source": "## Resultant Internal Loadings at Position E",
   "id": "21153fc065082ffc"
  },
  {
   "metadata": {
    "ExecuteTime": {
     "end_time": "2024-06-10T15:37:34.264184Z",
     "start_time": "2024-06-10T15:37:34.221734Z"
    }
   },
   "cell_type": "code",
   "source": [
    "internal_load_E = boom.cut(x=Q_(1, 'm'), side='left')\n",
    "print(f\"{internal_load_E['F_x'].to('kN'):~P.2f}\")\n",
    "print(f\"{internal_load_E['F_y'].to('kN'):~P.2f}\")\n",
    "print(f\"{internal_load_E['M_z'].to('kN * m'):~P.2f}\")"
   ],
   "id": "6e5f38967b6de469",
   "outputs": [
    {
     "name": "stdout",
     "output_type": "stream",
     "text": [
      "-9.81 kN\n",
      "2.45 kN\n",
      "-2.45 kN·m\n"
     ]
    }
   ],
   "execution_count": 4
  },
  {
   "metadata": {
    "ExecuteTime": {
     "end_time": "2024-06-10T15:37:34.268720Z",
     "start_time": "2024-06-10T15:37:34.266188Z"
    }
   },
   "cell_type": "code",
   "source": "",
   "id": "a70d205372bb52ce",
   "outputs": [],
   "execution_count": 4
  }
 ],
 "metadata": {
  "kernelspec": {
   "display_name": "Python 3",
   "language": "python",
   "name": "python3"
  },
  "language_info": {
   "codemirror_mode": {
    "name": "ipython",
    "version": 2
   },
   "file_extension": ".py",
   "mimetype": "text/x-python",
   "name": "python",
   "nbconvert_exporter": "python",
   "pygments_lexer": "ipython2",
   "version": "2.7.6"
  }
 },
 "nbformat": 4,
 "nbformat_minor": 5
}
