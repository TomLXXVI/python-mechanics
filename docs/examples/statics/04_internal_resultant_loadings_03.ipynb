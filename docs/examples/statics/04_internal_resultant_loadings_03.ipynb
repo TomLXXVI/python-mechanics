{
 "cells": [
  {
   "cell_type": "markdown",
   "id": "1285f18ae4f9833f",
   "metadata": {},
   "source": "# Resultant Internal Loadings in a Section of a Beam, Example 3"
  },
  {
   "cell_type": "markdown",
   "id": "9b6508f4fdfdcd6b",
   "metadata": {},
   "source": [
    "In this notebook example 1.2 from the book **Mechanics of Materials, 10th Edition in SI units by R.C. Hibbeler** will be solved using the *python-mechanics* library. To do this exercise, we need to import the following items from this library:"
   ]
  },
  {
   "cell_type": "code",
   "execution_count": 1,
   "id": "7d47360e749799d5",
   "metadata": {
    "ExecuteTime": {
     "end_time": "2024-06-10T15:37:34.124727Z",
     "start_time": "2024-06-10T15:37:33.219079Z"
    }
   },
   "outputs": [],
   "source": [
    "import numpy as np\n",
    "from mechanics import Quantity\n",
    "from mechanics.statics import (\n",
    "    Force,\n",
    "    Hinge2D,\n",
    "    TwoForceMember2D,\n",
    "    Beam2D\n",
    ")"
   ]
  },
  {
   "cell_type": "code",
   "execution_count": 2,
   "id": "9605e9b9dac30010",
   "metadata": {
    "ExecuteTime": {
     "end_time": "2024-06-10T15:37:34.133020Z",
     "start_time": "2024-06-10T15:37:34.125738Z"
    }
   },
   "outputs": [],
   "source": [
    "Q_ = Quantity"
   ]
  },
  {
   "cell_type": "markdown",
   "id": "fc7336a4557ff86a",
   "metadata": {},
   "source": [
    "*A 500 kg engine is suspended from the crane boom as shown in the image below. Determine the resultant internal loadings acting on the cross section of the boom at point E.*"
   ]
  },
  {
   "cell_type": "markdown",
   "id": "770e60337cb67851",
   "metadata": {},
   "source": [
    "![example 3](./images/example_3.png)"
   ]
  },
  {
   "cell_type": "markdown",
   "id": "92f2d204bf0090c5",
   "metadata": {},
   "source": [
    "## External Reaction Forces"
   ]
  },
  {
   "cell_type": "markdown",
   "id": "e64ea6357b35e47e",
   "metadata": {},
   "source": [
    "Rod CD can be considered as a two-force member, i.e. it acts like a cable. This means that the reaction force exerted on the boom at position C is directed along the centerline of the rod CD. From the dimensions indicated on the figure, the slope angle of the line CD can be calculated with respect to our coordinate system (note that this angle lies in the second quadrant, i.e. between 90° and 180 °).  "
   ]
  },
  {
   "cell_type": "code",
   "execution_count": 3,
   "id": "4f768574b980beb",
   "metadata": {
    "ExecuteTime": {
     "end_time": "2024-06-10T15:37:34.220729Z",
     "start_time": "2024-06-10T15:37:34.134045Z"
    }
   },
   "outputs": [
    {
     "name": "stdout",
     "output_type": "stream",
     "text": [
      "sup_A: <x: 9810.000 N; y: -2452.500 N; z: 0.000 N>\n",
      "sup_C: <x: -9810.000 N; y: 7357.500 N; z: 0.000 N>\n"
     ]
    }
   ],
   "source": [
    "sup_C = TwoForceMember2D(\n",
    "    name='sup_C',\n",
    "    position=Q_(2, 'm'),\n",
    "    theta=Q_(np.pi - np.arctan2(1.5, 2), 'rad')\n",
    ")\n",
    "\n",
    "sup_A = Hinge2D(\n",
    "    name='sup_A',\n",
    "    position=Q_(0, 'm')\n",
    ")\n",
    "\n",
    "F_B = Force(\n",
    "    action_point=Q_(3, 'm'),\n",
    "    magnitude=Q_(9.81 * 500, 'N'),\n",
    "    theta=Q_(-90, 'deg'),\n",
    "    name='F_B'\n",
    ")\n",
    "\n",
    "boom = Beam2D(\n",
    "    length=Q_(3, 'm'),\n",
    "    loads=[F_B],\n",
    "    supports=[sup_C, sup_A]\n",
    ")\n",
    "reactions = boom.get_reactions()\n",
    "\n",
    "for name, reaction in reactions.items():\n",
    "    print(f\"{name}: {reaction}\")"
   ]
  },
  {
   "cell_type": "markdown",
   "id": "21153fc065082ffc",
   "metadata": {},
   "source": [
    "## Resultant Internal Loadings at Position E"
   ]
  },
  {
   "cell_type": "code",
   "execution_count": 4,
   "id": "6e5f38967b6de469",
   "metadata": {
    "ExecuteTime": {
     "end_time": "2024-06-10T15:37:34.264184Z",
     "start_time": "2024-06-10T15:37:34.221734Z"
    }
   },
   "outputs": [
    {
     "name": "stdout",
     "output_type": "stream",
     "text": [
      "-9.81 kN\n",
      "2.45 kN\n",
      "-2.45 kN·m\n"
     ]
    }
   ],
   "source": [
    "internal_load_E = boom.cut(x=Q_(1, 'm'), side='left')\n",
    "\n",
    "print(f\"{internal_load_E['F_x'].to('kN'):~P.2f}\")\n",
    "print(f\"{internal_load_E['F_y'].to('kN'):~P.2f}\")\n",
    "print(f\"{internal_load_E['M_z'].to('kN * m'):~P.2f}\")"
   ]
  },
  {
   "cell_type": "code",
   "execution_count": 4,
   "id": "a70d205372bb52ce",
   "metadata": {
    "ExecuteTime": {
     "end_time": "2024-06-10T15:37:34.268720Z",
     "start_time": "2024-06-10T15:37:34.266188Z"
    }
   },
   "outputs": [],
   "source": []
  }
 ],
 "metadata": {
  "kernelspec": {
   "display_name": "Python 3 (ipykernel)",
   "language": "python",
   "name": "python3"
  },
  "language_info": {
   "codemirror_mode": {
    "name": "ipython",
    "version": 3
   },
   "file_extension": ".py",
   "mimetype": "text/x-python",
   "name": "python",
   "nbconvert_exporter": "python",
   "pygments_lexer": "ipython3",
   "version": "3.12.3"
  }
 },
 "nbformat": 4,
 "nbformat_minor": 5
}
