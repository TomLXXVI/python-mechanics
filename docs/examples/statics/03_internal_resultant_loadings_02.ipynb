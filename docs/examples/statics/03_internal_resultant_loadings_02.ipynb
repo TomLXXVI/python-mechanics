{
 "cells": [
  {
   "cell_type": "markdown",
   "id": "733ef06b7c9756aa",
   "metadata": {},
   "source": [
    "# Internal Resultant Loadings in a Section of a Beam, Example 2"
   ]
  },
  {
   "cell_type": "markdown",
   "id": "9b63afeb8bdffe1a",
   "metadata": {},
   "source": [
    "![example 2](./images/example_2.png)"
   ]
  },
  {
   "cell_type": "markdown",
   "id": "a0ccbd1fa2ec3c88",
   "metadata": {},
   "source": [
    "*Determine the resulting internal loads acting on the cross section at point C of the machine shaft. The shaft is supported at points A and B by bearings that exert only vertical forces on the shaft.*"
   ]
  },
  {
   "cell_type": "markdown",
   "id": "d3f8d2e8eb9f4fca",
   "metadata": {},
   "source": [
    "To solve this exercise, we need to determine first the reaction forces at positions A and B. The bearings in A and B can be represented by a roller support which only prevents translation in the vertical direction. We locate the origin of our right-handed coordinate system in point A. The positive horizontal x-axis lies on the centerline of the machine shaft pointing to the right, while the positive vertical y-axis through point A is pointing upward."
   ]
  },
  {
   "cell_type": "code",
   "execution_count": 1,
   "id": "432849a1589377e4",
   "metadata": {
    "ExecuteTime": {
     "end_time": "2024-06-10T12:33:12.839936Z",
     "start_time": "2024-06-10T12:33:11.924366Z"
    }
   },
   "outputs": [],
   "source": [
    "from mechanics import Quantity\n",
    "from mechanics.statics import (\n",
    "    Force,\n",
    "    DistributedLoad2D,\n",
    "    Roller2D,\n",
    "    Beam2D\n",
    ")"
   ]
  },
  {
   "cell_type": "code",
   "execution_count": 2,
   "id": "d6e20511f8dd489b",
   "metadata": {
    "ExecuteTime": {
     "end_time": "2024-06-10T12:33:12.844228Z",
     "start_time": "2024-06-10T12:33:12.840274Z"
    }
   },
   "outputs": [],
   "source": [
    "Q_ = Quantity"
   ]
  },
  {
   "cell_type": "markdown",
   "id": "aa1838151547d931",
   "metadata": {},
   "source": [
    "## External Loads"
   ]
  },
  {
   "cell_type": "markdown",
   "id": "12f370c22a1a0767",
   "metadata": {},
   "source": [
    "### Vertical Force at point D"
   ]
  },
  {
   "cell_type": "code",
   "execution_count": 3,
   "id": "d2bfe8a3a50db837",
   "metadata": {
    "ExecuteTime": {
     "end_time": "2024-06-10T12:33:12.852097Z",
     "start_time": "2024-06-10T12:33:12.845237Z"
    }
   },
   "outputs": [],
   "source": [
    "F_D = Force(\n",
    "    action_point=Q_(500, 'mm'),\n",
    "    magnitude=Q_(225, 'N'),\n",
    "    theta=Q_(-90, 'deg')\n",
    ")"
   ]
  },
  {
   "cell_type": "code",
   "execution_count": 4,
   "id": "d811b8e421f9eab2",
   "metadata": {
    "ExecuteTime": {
     "end_time": "2024-06-10T12:33:12.856762Z",
     "start_time": "2024-06-10T12:33:12.853103Z"
    }
   },
   "outputs": [
    {
     "name": "stdout",
     "output_type": "stream",
     "text": [
      "<x: 0.000 N; y: -225.000 N; z: 0.000 N>\n"
     ]
    }
   ],
   "source": [
    "print(F_D)"
   ]
  },
  {
   "cell_type": "markdown",
   "id": "b7243b4b15e01fbb",
   "metadata": {},
   "source": [
    "### Distributed Loading on the Machine Shaft"
   ]
  },
  {
   "cell_type": "markdown",
   "id": "a0a154e346280d77",
   "metadata": {},
   "source": [
    "The distributed loading has a rectangular shape, starting at x = 200 mm and ending at x = 350 mm. The constant load per unit of length is 800 N/m. Because the load is directed downward, we must not forget to add a minus sign."
   ]
  },
  {
   "cell_type": "code",
   "execution_count": 5,
   "id": "b6ddf10c4aac1cfa",
   "metadata": {
    "ExecuteTime": {
     "end_time": "2024-06-10T12:33:12.862713Z",
     "start_time": "2024-06-10T12:33:12.858767Z"
    }
   },
   "outputs": [],
   "source": [
    "q = DistributedLoad2D(\n",
    "    points=[\n",
    "        (Q_(200, 'mm'), Q_(-800, 'N / m')),\n",
    "        (Q_(350, 'mm'), Q_(-800, 'N / m'))\n",
    "    ]\n",
    ")"
   ]
  },
  {
   "cell_type": "code",
   "execution_count": 6,
   "id": "ce1b4a0f039cecbd",
   "metadata": {
    "ExecuteTime": {
     "end_time": "2024-06-10T12:33:12.869187Z",
     "start_time": "2024-06-10T12:33:12.863719Z"
    }
   },
   "outputs": [
    {
     "name": "stdout",
     "output_type": "stream",
     "text": [
      "<x: 0.000 N·mm/m; y: -120000.000 N·mm/m; z: 0.000 N·mm/m>\n",
      "(<Quantity(275.0, 'millimeter')>, <Quantity(0, 'millimeter')>, <Quantity(0, 'millimeter')>)\n"
     ]
    }
   ],
   "source": [
    "Q = q.resultant()\n",
    "print(Q)\n",
    "print(Q.action_point)"
   ]
  },
  {
   "cell_type": "markdown",
   "id": "ef4e4ef784e41837",
   "metadata": {},
   "source": [
    "## Roller Supports at Points A and B"
   ]
  },
  {
   "cell_type": "code",
   "execution_count": 7,
   "id": "736d4b1a2768336c",
   "metadata": {
    "ExecuteTime": {
     "end_time": "2024-06-10T12:33:12.873233Z",
     "start_time": "2024-06-10T12:33:12.870192Z"
    }
   },
   "outputs": [],
   "source": [
    "roller_A = Roller2D(\n",
    "    name='roller_A',\n",
    "    position=Q_(0, 'mm')\n",
    ")"
   ]
  },
  {
   "cell_type": "code",
   "execution_count": 8,
   "id": "6d373b3a4b97a93e",
   "metadata": {
    "ExecuteTime": {
     "end_time": "2024-06-10T12:33:12.878174Z",
     "start_time": "2024-06-10T12:33:12.874245Z"
    }
   },
   "outputs": [],
   "source": [
    "roller_B = Roller2D(\n",
    "    name='roller_B',\n",
    "    position=Q_(400, 'mm')\n",
    ")"
   ]
  },
  {
   "cell_type": "markdown",
   "id": "8579b43c0ec6694b",
   "metadata": {},
   "source": [
    "## Machine Shaft"
   ]
  },
  {
   "cell_type": "markdown",
   "id": "8971de8e7be8d2dd",
   "metadata": {},
   "source": [
    "### Reaction Forces at Points A and B"
   ]
  },
  {
   "cell_type": "code",
   "execution_count": 9,
   "id": "96e5c0e8a14da8b7",
   "metadata": {
    "ExecuteTime": {
     "end_time": "2024-06-10T12:33:12.882984Z",
     "start_time": "2024-06-10T12:33:12.879180Z"
    }
   },
   "outputs": [],
   "source": [
    "shaft = Beam2D(\n",
    "    length=Q_(500, 'mm'), \n",
    "    loads=[F_D, q], \n",
    "    supports=[roller_A, roller_B]\n",
    ")"
   ]
  },
  {
   "cell_type": "code",
   "execution_count": 10,
   "id": "dca6e861711f4b3a",
   "metadata": {
    "ExecuteTime": {
     "end_time": "2024-06-10T12:33:12.933760Z",
     "start_time": "2024-06-10T12:33:12.884008Z"
    }
   },
   "outputs": [
    {
     "name": "stdout",
     "output_type": "stream",
     "text": [
      "roller_A: <x: 0.000 N; y: -18.750 N; z: 0.000 N>\n",
      "roller_B: <x: 0.000 N; y: 363.750 N; z: 0.000 N>\n"
     ]
    }
   ],
   "source": [
    "forces, torques = shaft.get_reactions()\n",
    "\n",
    "for name, force in forces.items():\n",
    "    print(f\"{name}: {force}\")\n",
    "\n",
    "for name, torque in torques.items():\n",
    "    print(f\"{name}: {torque}\")"
   ]
  },
  {
   "cell_type": "markdown",
   "id": "3c44391e658601a0",
   "metadata": {},
   "source": [
    "### Internal Loadings at point C"
   ]
  },
  {
   "cell_type": "code",
   "execution_count": 11,
   "id": "9a3801d323ed170a",
   "metadata": {
    "ExecuteTime": {
     "end_time": "2024-06-10T12:36:37.181953Z",
     "start_time": "2024-06-10T12:36:37.153664Z"
    }
   },
   "outputs": [
    {
     "name": "stdout",
     "output_type": "stream",
     "text": [
      "-0.0 newton\n",
      "58.75 newton\n",
      "-5.6875 meter * newton\n"
     ]
    }
   ],
   "source": [
    "internal_load_C = shaft.cut(x=Q_(250, 'mm'))\n",
    "\n",
    "print(internal_load_C['F_x'].to('N'))\n",
    "print(internal_load_C['F_y'].to('N'))\n",
    "print(internal_load_C['M_z'].to('N * m'))"
   ]
  },
  {
   "cell_type": "code",
   "execution_count": 12,
   "id": "54bc699cce44e4d",
   "metadata": {
    "ExecuteTime": {
     "end_time": "2024-06-10T12:37:08.460175Z",
     "start_time": "2024-06-10T12:37:08.438326Z"
    }
   },
   "outputs": [
    {
     "name": "stdout",
     "output_type": "stream",
     "text": [
      "-0.0 newton\n",
      "-58.75 newton\n",
      "5.6875 meter * newton\n"
     ]
    }
   ],
   "source": [
    "internal_load_C = shaft.cut(x=Q_(250, 'mm'), side='right')\n",
    "\n",
    "print(internal_load_C['F_x'].to('N'))\n",
    "print(internal_load_C['F_y'].to('N'))\n",
    "print(internal_load_C['M_z'].to('N * m'))"
   ]
  },
  {
   "cell_type": "code",
   "execution_count": null,
   "id": "f6c7d8d98aa8ff62",
   "metadata": {},
   "outputs": [],
   "source": []
  }
 ],
 "metadata": {
  "kernelspec": {
   "display_name": "Python 3 (ipykernel)",
   "language": "python",
   "name": "python3"
  },
  "language_info": {
   "codemirror_mode": {
    "name": "ipython",
    "version": 3
   },
   "file_extension": ".py",
   "mimetype": "text/x-python",
   "name": "python",
   "nbconvert_exporter": "python",
   "pygments_lexer": "ipython3",
   "version": "3.12.3"
  }
 },
 "nbformat": 4,
 "nbformat_minor": 5
}
