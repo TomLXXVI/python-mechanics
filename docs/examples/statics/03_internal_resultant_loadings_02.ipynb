{
 "cells": [
  {
   "metadata": {},
   "cell_type": "markdown",
   "source": "# Internal Resultant Loadings in a Section of a Beam, Example 2",
   "id": "733ef06b7c9756aa"
  },
  {
   "metadata": {},
   "cell_type": "markdown",
   "source": "![example 2](./images/example_2.png)",
   "id": "9b63afeb8bdffe1a"
  },
  {
   "metadata": {},
   "cell_type": "markdown",
   "source": "*Determine the resulting internal loads acting on the cross section at point C of the machine shaft. The shaft is supported at points A and B by bearings that exert only vertical forces on the shaft.*",
   "id": "a0ccbd1fa2ec3c88"
  },
  {
   "metadata": {},
   "cell_type": "markdown",
   "source": "To solve this exercise, we need to determine first the reaction forces at positions A and B. The bearings in A and B can be represented by a roller support which only prevents translation in the vertical direction. We locate the origin of our right-handed coordinate system in point A. The positive horizontal x-axis lies on the centerline of the machine shaft pointing to the right, while the positive vertical y-axis through point A is pointing upward.",
   "id": "d3f8d2e8eb9f4fca"
  },
  {
   "metadata": {
    "ExecuteTime": {
     "end_time": "2024-06-10T12:33:12.839936Z",
     "start_time": "2024-06-10T12:33:11.924366Z"
    }
   },
   "cell_type": "code",
   "source": [
    "from mechanics import Quantity\n",
    "from mechanics.statics import (\n",
    "    Force,\n",
    "    DistributedLoad2D,\n",
    "    Roller2D,\n",
    "    Beam2D\n",
    ")"
   ],
   "id": "432849a1589377e4",
   "outputs": [],
   "execution_count": 1
  },
  {
   "metadata": {
    "ExecuteTime": {
     "end_time": "2024-06-10T12:33:12.844228Z",
     "start_time": "2024-06-10T12:33:12.840274Z"
    }
   },
   "cell_type": "code",
   "source": "Q_ = Quantity",
   "id": "d6e20511f8dd489b",
   "outputs": [],
   "execution_count": 2
  },
  {
   "metadata": {},
   "cell_type": "markdown",
   "source": "## External Loads",
   "id": "aa1838151547d931"
  },
  {
   "metadata": {},
   "cell_type": "markdown",
   "source": "### Vertical Force at point D",
   "id": "12f370c22a1a0767"
  },
  {
   "metadata": {
    "ExecuteTime": {
     "end_time": "2024-06-10T12:33:12.852097Z",
     "start_time": "2024-06-10T12:33:12.845237Z"
    }
   },
   "cell_type": "code",
   "source": [
    "F_D = Force(\n",
    "    action_point=Q_(500, 'mm'),\n",
    "    magnitude=Q_(225, 'N'),\n",
    "    theta=Q_(-90, 'deg')\n",
    ")"
   ],
   "id": "d2bfe8a3a50db837",
   "outputs": [],
   "execution_count": 3
  },
  {
   "metadata": {
    "ExecuteTime": {
     "end_time": "2024-06-10T12:33:12.856762Z",
     "start_time": "2024-06-10T12:33:12.853103Z"
    }
   },
   "cell_type": "code",
   "source": "print(F_D)",
   "id": "d811b8e421f9eab2",
   "outputs": [
    {
     "name": "stdout",
     "output_type": "stream",
     "text": [
      "<x: 0.000 N; y: -225.000 N; z: 0.000 N>\n"
     ]
    }
   ],
   "execution_count": 4
  },
  {
   "metadata": {},
   "cell_type": "markdown",
   "source": "### Distributed Loading on the Machine Shaft",
   "id": "b7243b4b15e01fbb"
  },
  {
   "metadata": {},
   "cell_type": "markdown",
   "source": "The distributed loading has a rectangular shape, starting at x = 200 mm and ending at x = 350 mm. The constant load per unit of length is 800 N/m. Because the load is directed downward, we must not forget to add a minus sign.",
   "id": "a0a154e346280d77"
  },
  {
   "metadata": {
    "ExecuteTime": {
     "end_time": "2024-06-10T12:33:12.862713Z",
     "start_time": "2024-06-10T12:33:12.858767Z"
    }
   },
   "cell_type": "code",
   "source": [
    "q = DistributedLoad2D(\n",
    "    points=[\n",
    "        (Q_(200, 'mm'), Q_(-800, 'N / m')),\n",
    "        (Q_(350, 'mm'), Q_(-800, 'N / m'))\n",
    "    ]\n",
    ")"
   ],
   "id": "b6ddf10c4aac1cfa",
   "outputs": [],
   "execution_count": 5
  },
  {
   "metadata": {
    "ExecuteTime": {
     "end_time": "2024-06-10T12:33:12.869187Z",
     "start_time": "2024-06-10T12:33:12.863719Z"
    }
   },
   "cell_type": "code",
   "source": [
    "Q = q.resultant()\n",
    "print(Q)\n",
    "print(Q.action_point)"
   ],
   "id": "ce1b4a0f039cecbd",
   "outputs": [
    {
     "name": "stdout",
     "output_type": "stream",
     "text": [
      "<x: 0.000 N·mm/m; y: -120000.000 N·mm/m; z: 0.000 N·mm/m>\n",
      "(<Quantity(275.0, 'millimeter')>, <Quantity(0, 'millimeter')>, <Quantity(0, 'millimeter')>)\n"
     ]
    }
   ],
   "execution_count": 6
  },
  {
   "metadata": {},
   "cell_type": "markdown",
   "source": "## Roller Supports at Points A and B",
   "id": "ef4e4ef784e41837"
  },
  {
   "metadata": {
    "ExecuteTime": {
     "end_time": "2024-06-10T12:33:12.873233Z",
     "start_time": "2024-06-10T12:33:12.870192Z"
    }
   },
   "cell_type": "code",
   "source": [
    "roller_A = Roller2D(\n",
    "    name='roller_A',\n",
    "    position=Q_(0, 'mm')\n",
    ")"
   ],
   "id": "736d4b1a2768336c",
   "outputs": [],
   "execution_count": 7
  },
  {
   "metadata": {
    "ExecuteTime": {
     "end_time": "2024-06-10T12:33:12.878174Z",
     "start_time": "2024-06-10T12:33:12.874245Z"
    }
   },
   "cell_type": "code",
   "source": [
    "roller_B = Roller2D(\n",
    "    name='roller_B',\n",
    "    position=Q_(400, 'mm')\n",
    ")"
   ],
   "id": "6d373b3a4b97a93e",
   "outputs": [],
   "execution_count": 8
  },
  {
   "metadata": {},
   "cell_type": "markdown",
   "source": "## Machine Shaft",
   "id": "8579b43c0ec6694b"
  },
  {
   "metadata": {},
   "cell_type": "markdown",
   "source": "### Reaction Forces at Points A and B",
   "id": "8971de8e7be8d2dd"
  },
  {
   "metadata": {
    "ExecuteTime": {
     "end_time": "2024-06-10T12:33:12.882984Z",
     "start_time": "2024-06-10T12:33:12.879180Z"
    }
   },
   "cell_type": "code",
   "source": [
    "shaft = Beam2D(\n",
    "    length=Q_(500, 'mm'), \n",
    "    loads=[F_D, q], \n",
    "    supports=[roller_A, roller_B]\n",
    ")"
   ],
   "id": "96e5c0e8a14da8b7",
   "outputs": [],
   "execution_count": 9
  },
  {
   "metadata": {
    "ExecuteTime": {
     "end_time": "2024-06-10T12:33:12.933760Z",
     "start_time": "2024-06-10T12:33:12.884008Z"
    }
   },
   "cell_type": "code",
   "source": [
    "forces, torques = shaft.get_reactions()\n",
    "\n",
    "for name, force in forces.items():\n",
    "    print(f\"{name}: {force}\")\n",
    "\n",
    "for name, torque in torques.items():\n",
    "    print(f\"{name}: {torque}\")"
   ],
   "id": "dca6e861711f4b3a",
   "outputs": [
    {
     "name": "stdout",
     "output_type": "stream",
     "text": [
      "roller_A: <x: 0.000 N; y: -18.750 N; z: 0.000 N>\n",
      "roller_B: <x: 0.000 N; y: 363.750 N; z: 0.000 N>\n"
     ]
    }
   ],
   "execution_count": 10
  },
  {
   "metadata": {},
   "cell_type": "markdown",
   "source": "### Internal Loadings at point C",
   "id": "3c44391e658601a0"
  },
  {
   "metadata": {
    "ExecuteTime": {
     "end_time": "2024-06-10T12:36:37.181953Z",
     "start_time": "2024-06-10T12:36:37.153664Z"
    }
   },
   "cell_type": "code",
   "source": [
    "internal_load_C = shaft.cut(x=Q_(250, 'mm'))\n",
    "\n",
    "print(internal_load_C['F_x'].to('N'))\n",
    "print(internal_load_C['F_y'].to('N'))\n",
    "print(internal_load_C['M_z'].to('N * m'))"
   ],
   "id": "9a3801d323ed170a",
   "outputs": [
    {
     "name": "stdout",
     "output_type": "stream",
     "text": [
      "-0.0 newton\n",
      "58.75 newton\n",
      "-5.6875 meter * newton\n"
     ]
    }
   ],
   "execution_count": 11
  },
  {
   "metadata": {
    "ExecuteTime": {
     "end_time": "2024-06-10T12:37:08.460175Z",
     "start_time": "2024-06-10T12:37:08.438326Z"
    }
   },
   "cell_type": "code",
   "source": [
    "internal_load_C = shaft.cut(x=Q_(250, 'mm'), side='right')\n",
    "\n",
    "print(internal_load_C['F_x'].to('N'))\n",
    "print(internal_load_C['F_y'].to('N'))\n",
    "print(internal_load_C['M_z'].to('N * m'))"
   ],
   "id": "54bc699cce44e4d",
   "outputs": [
    {
     "name": "stdout",
     "output_type": "stream",
     "text": [
      "-0.0 newton\n",
      "-58.75 newton\n",
      "5.6875 meter * newton\n"
     ]
    }
   ],
   "execution_count": 12
  },
  {
   "metadata": {},
   "cell_type": "code",
   "outputs": [],
   "execution_count": null,
   "source": "",
   "id": "f6c7d8d98aa8ff62"
  }
 ],
 "metadata": {
  "kernelspec": {
   "display_name": "Python 3",
   "language": "python",
   "name": "python3"
  },
  "language_info": {
   "codemirror_mode": {
    "name": "ipython",
    "version": 2
   },
   "file_extension": ".py",
   "mimetype": "text/x-python",
   "name": "python",
   "nbconvert_exporter": "python",
   "pygments_lexer": "ipython2",
   "version": "2.7.6"
  }
 },
 "nbformat": 4,
 "nbformat_minor": 5
}
