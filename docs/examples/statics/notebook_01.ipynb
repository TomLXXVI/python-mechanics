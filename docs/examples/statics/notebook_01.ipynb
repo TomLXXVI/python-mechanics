{
 "cells": [
  {
   "cell_type": "markdown",
   "id": "aa63066eafb95c5b",
   "metadata": {},
   "source": "# The Definition of a Force"
  },
  {
   "cell_type": "code",
   "id": "2e0a63383900ae61",
   "metadata": {
    "ExecuteTime": {
     "end_time": "2024-06-10T10:10:56.102439Z",
     "start_time": "2024-06-10T10:10:55.106612Z"
    }
   },
   "source": [
    "from mechanics import Quantity\n",
    "from mechanics.statics import Force"
   ],
   "outputs": [],
   "execution_count": 1
  },
  {
   "cell_type": "code",
   "id": "c342fb03c54f9732",
   "metadata": {
    "ExecuteTime": {
     "end_time": "2024-06-10T10:10:56.106352Z",
     "start_time": "2024-06-10T10:10:56.103444Z"
    }
   },
   "source": [
    "Q_ = Quantity"
   ],
   "outputs": [],
   "execution_count": 2
  },
  {
   "cell_type": "markdown",
   "id": "e581faba98ac9f63",
   "metadata": {},
   "source": [
    "## Fully Determined Force"
   ]
  },
  {
   "cell_type": "markdown",
   "id": "5d47f8be33b4cbdf",
   "metadata": {},
   "source": [
    "A force is fully determined by:\n",
    "- its **action point**, i.e. the point in space where the force acts on a body. A point or position in space is relative to the chosen position of the origin of the coordinate system. A right-handed cartesian coordinate system is used here. From a top view, the x-axis runs vertical pointing downwards, while the y-axis runs horizontal pointing to the right. Both axes intersect in the origin. The z-axis also goes through the origin, runs perpendicular to the xy-plane and points upward.   \n",
    "- its **magnitude**, which must be a positive value. Should it be given a negative value, a `RuntimeWarning` is raised to warn that the absolute value will be taken, i.e., the minus sign will be ignored.  \n",
    "- the **angle `theta`**, i.e. the smallest angle in the xy-plane measured from the x-axis to the action line of the force projected on the xy-plane. The positive turning sense of an angle in a right-handed coordinate system is counter-clockwise (so, the value of an angle measured in a clockwise sense, needs a minus sign).\n",
    "- the **angle `gamma`**, i.e. the smallest angle measured between the xy-plane and the action line of the force.\n",
    "\n",
    "A force can also be given a name to identify it in a system of forces."
   ]
  },
  {
   "cell_type": "code",
   "id": "bf26b922b4a42dd9",
   "metadata": {
    "ExecuteTime": {
     "end_time": "2024-06-10T10:10:56.114507Z",
     "start_time": "2024-06-10T10:10:56.107361Z"
    }
   },
   "source": [
    "F1 = Force(\n",
    "    action_point=(Q_(2, 'm'), Q_(2, 'm'), Q_(3, 'm')),\n",
    "    magnitude=Q_(1200, 'N'),\n",
    "    theta=Q_(45, 'deg'),\n",
    "    gamma=Q_(30, 'deg'),\n",
    "    name='F1'\n",
    ")"
   ],
   "outputs": [],
   "execution_count": 3
  },
  {
   "cell_type": "code",
   "id": "aed8e72290eea809",
   "metadata": {
    "ExecuteTime": {
     "end_time": "2024-06-10T10:10:56.120037Z",
     "start_time": "2024-06-10T10:10:56.115518Z"
    }
   },
   "source": [
    "print(F1)"
   ],
   "outputs": [
    {
     "name": "stdout",
     "output_type": "stream",
     "text": [
      "<x: 734.847 N; y: 734.847 N; z: 600.000 N>\n"
     ]
    }
   ],
   "execution_count": 4
  },
  {
   "cell_type": "markdown",
   "id": "21c11d80b3f66cbd",
   "metadata": {},
   "source": [
    "When a `Force` object is printed, its cartesian components along the x-axis, y-axis, and z-axis are displayed."
   ]
  },
  {
   "cell_type": "markdown",
   "id": "97875663938c21ec",
   "metadata": {},
   "source": [
    "> **A note about position:**<br>\n",
    "> In general a point or position in space has three coordinates (*x, y, z*). The coordinates are `Quantity` objects with units of length. Either a tuple of three `Quantity` objects can be entered or a single multivalued `Quantity` object, e.g. `action_point=Q_([1.0, 4.5, -7.25], 'm')`.<br>\n",
    "> It is also possible to give only one or two coordinates. In case one coordinate is given, it is assumed to be an x-coordinate and the y- and z-coordinate are set to zero. In case two coordinates are given, it is assumed that they are respectively the x- and y-coordinate and the z-coordinate is set to zero. "
   ]
  },
  {
   "cell_type": "markdown",
   "id": "e1fc933309f7e805",
   "metadata": {},
   "source": [
    "### 2D-force"
   ]
  },
  {
   "cell_type": "markdown",
   "id": "475ff161459900ca",
   "metadata": {},
   "source": "When a mechanical problem can be represented by a planar system of forces, the cartesian coordinate system can be reduced to only the xy-plane. In that case, the z-coordinate of the action point is always zero and the angle `gamma` is also always zero, so we don't need to specify them when defining a 2D-force."
  },
  {
   "cell_type": "code",
   "id": "ad71e91cea05af58",
   "metadata": {
    "ExecuteTime": {
     "end_time": "2024-06-10T10:10:56.134520Z",
     "start_time": "2024-06-10T10:10:56.122043Z"
    }
   },
   "source": [
    "F2 = Force(\n",
    "    action_point=(Q_(400, 'mm'), Q_(200, 'mm')),\n",
    "    magnitude=Q_(8, 'kN'),\n",
    "    theta=Q_(45, 'deg')\n",
    ")"
   ],
   "outputs": [],
   "execution_count": 5
  },
  {
   "cell_type": "code",
   "id": "cf924b00a85a45e5",
   "metadata": {
    "ExecuteTime": {
     "end_time": "2024-06-10T10:10:56.139420Z",
     "start_time": "2024-06-10T10:10:56.135563Z"
    }
   },
   "source": [
    "print(F2)"
   ],
   "outputs": [
    {
     "name": "stdout",
     "output_type": "stream",
     "text": [
      "<x: 5.657 kN; y: 5.657 kN; z: 0.000 kN>\n"
     ]
    }
   ],
   "execution_count": 6
  },
  {
   "cell_type": "markdown",
   "id": "7f366244fb0c2f9b",
   "metadata": {},
   "source": [
    "### Moment of a Force"
   ]
  },
  {
   "cell_type": "markdown",
   "id": "e41cb42ed18b4780",
   "metadata": {},
   "source": [
    "The moment of a force is defined with respect to a given point in space (or the xy-plane if we consider a 2D-system of forces). By default, this point is the origin of the coordinate system."
   ]
  },
  {
   "cell_type": "markdown",
   "id": "c66753825e5c9b41",
   "metadata": {},
   "source": [
    "**Moment of force F1 with respect to the origin:**"
   ]
  },
  {
   "cell_type": "code",
   "id": "9d171632e25b4949",
   "metadata": {
    "ExecuteTime": {
     "end_time": "2024-06-10T10:10:56.146319Z",
     "start_time": "2024-06-10T10:10:56.140425Z"
    }
   },
   "source": [
    "M1 = F1.moment()"
   ],
   "outputs": [],
   "execution_count": 7
  },
  {
   "cell_type": "code",
   "id": "857a6890db454c0",
   "metadata": {
    "ExecuteTime": {
     "end_time": "2024-06-10T10:10:56.156398Z",
     "start_time": "2024-06-10T10:10:56.147324Z"
    }
   },
   "source": [
    "print(M1)"
   ],
   "outputs": [
    {
     "name": "stdout",
     "output_type": "stream",
     "text": [
      "<x: -1004.541 N·m; y: 1004.541 N·m; z: -0.000 N·m>\n"
     ]
    }
   ],
   "execution_count": 8
  },
  {
   "cell_type": "markdown",
   "id": "aa33eb5d65aee8c3",
   "metadata": {},
   "source": [
    "**Moment of force F2 with respect to the origin:**"
   ]
  },
  {
   "cell_type": "code",
   "id": "90cfb28bd37c6b87",
   "metadata": {
    "ExecuteTime": {
     "end_time": "2024-06-10T10:10:56.163412Z",
     "start_time": "2024-06-10T10:10:56.156398Z"
    }
   },
   "source": [
    "M2 = F2.moment()"
   ],
   "outputs": [],
   "execution_count": 9
  },
  {
   "cell_type": "code",
   "id": "715cbbc479551b9d",
   "metadata": {
    "ExecuteTime": {
     "end_time": "2024-06-10T10:10:56.168466Z",
     "start_time": "2024-06-10T10:10:56.164459Z"
    }
   },
   "source": [
    "print(M2)"
   ],
   "outputs": [
    {
     "name": "stdout",
     "output_type": "stream",
     "text": [
      "<x: 0.000 kN·mm; y: 0.000 kN·mm; z: 1131.371 kN·mm>\n"
     ]
    }
   ],
   "execution_count": 10
  },
  {
   "cell_type": "markdown",
   "id": "9cd0d3d10133ab29",
   "metadata": {},
   "source": [
    "**Moment of force F2 with respect to a given reference point:**"
   ]
  },
  {
   "cell_type": "code",
   "id": "6e427433d522e38b",
   "metadata": {
    "ExecuteTime": {
     "end_time": "2024-06-10T10:10:56.176457Z",
     "start_time": "2024-06-10T10:10:56.169473Z"
    }
   },
   "source": [
    "M3 = F2.moment(ref_point=(Q_(0, 'mm'), Q_(400, 'mm')))"
   ],
   "outputs": [],
   "execution_count": 11
  },
  {
   "cell_type": "code",
   "id": "f57d059f1ce7e57e",
   "metadata": {
    "ExecuteTime": {
     "end_time": "2024-06-10T10:10:56.180906Z",
     "start_time": "2024-06-10T10:10:56.177463Z"
    }
   },
   "source": [
    "print(M3)"
   ],
   "outputs": [
    {
     "name": "stdout",
     "output_type": "stream",
     "text": [
      "<x: 0.000 kN·mm; y: 0.000 kN·mm; z: 3394.113 kN·mm>\n"
     ]
    }
   ],
   "execution_count": 12
  },
  {
   "cell_type": "markdown",
   "id": "9e8cc1f342265faf",
   "metadata": {},
   "source": [
    "### Components of a Force"
   ]
  },
  {
   "cell_type": "markdown",
   "id": "554763265f145ada",
   "metadata": {},
   "source": [
    "To retrieve all the components of a force at once, you can use the `components` property: "
   ]
  },
  {
   "cell_type": "code",
   "id": "777ba8d564ef4c85",
   "metadata": {
    "ExecuteTime": {
     "end_time": "2024-06-10T10:10:56.185791Z",
     "start_time": "2024-06-10T10:10:56.181913Z"
    }
   },
   "source": [
    "F1_x, F1_y, F1_z = F1.components\n",
    "print(F1_x)\n",
    "print(F1_y)\n",
    "print(F1_z)"
   ],
   "outputs": [
    {
     "name": "stdout",
     "output_type": "stream",
     "text": [
      "734.8469228345813 newton\n",
      "734.8469228345812 newton\n",
      "599.9999999999999 newton\n"
     ]
    }
   ],
   "execution_count": 13
  },
  {
   "cell_type": "markdown",
   "id": "7e14032084e87fd1",
   "metadata": {},
   "source": [
    "The components are returned as `Quantity` objects."
   ]
  },
  {
   "cell_type": "markdown",
   "id": "770114108d46298b",
   "metadata": {},
   "source": [
    "To access a single component of a force:"
   ]
  },
  {
   "cell_type": "code",
   "id": "bcf73ab12013660d",
   "metadata": {
    "ExecuteTime": {
     "end_time": "2024-06-10T10:10:56.192612Z",
     "start_time": "2024-06-10T10:10:56.187303Z"
    }
   },
   "source": [
    "print(F1.x)\n",
    "print(F1.y)\n",
    "print(F1.z)"
   ],
   "outputs": [
    {
     "name": "stdout",
     "output_type": "stream",
     "text": [
      "734.8469228345813 newton\n",
      "734.8469228345812 newton\n",
      "599.9999999999999 newton\n"
     ]
    }
   ],
   "execution_count": 14
  },
  {
   "cell_type": "markdown",
   "id": "78f1216afaab100f",
   "metadata": {},
   "source": [
    "### Opposite Force"
   ]
  },
  {
   "cell_type": "markdown",
   "id": "c0f5c46f71321e28",
   "metadata": {},
   "source": [
    "To get the opposite force of a given force, you can use the class method `Force.reverse(...)`:"
   ]
  },
  {
   "cell_type": "code",
   "id": "f6f08a5e602a9118",
   "metadata": {
    "ExecuteTime": {
     "end_time": "2024-06-10T10:10:56.198512Z",
     "start_time": "2024-06-10T10:10:56.193619Z"
    }
   },
   "source": [
    "F3 = Force.reverse(F1)"
   ],
   "outputs": [],
   "execution_count": 15
  },
  {
   "cell_type": "code",
   "id": "9d09104a5e27c8c0",
   "metadata": {
    "ExecuteTime": {
     "end_time": "2024-06-10T10:10:56.203518Z",
     "start_time": "2024-06-10T10:10:56.199517Z"
    }
   },
   "source": [
    "print(F1.x, F3.x)\n",
    "print(F1.y, F3.y)\n",
    "print(F1.z, F3.z)"
   ],
   "outputs": [
    {
     "name": "stdout",
     "output_type": "stream",
     "text": [
      "734.8469228345813 newton 734.8469228345814 newton\n",
      "734.8469228345812 newton 734.8469228345812 newton\n",
      "599.9999999999999 newton -600.0000000000001 newton\n"
     ]
    }
   ],
   "execution_count": 16
  },
  {
   "cell_type": "code",
   "id": "4fdb95d6b23ab7e0",
   "metadata": {
    "ExecuteTime": {
     "end_time": "2024-06-10T10:10:56.207599Z",
     "start_time": "2024-06-10T10:10:56.204523Z"
    }
   },
   "source": [
    "print(F1)\n",
    "print(F3)"
   ],
   "outputs": [
    {
     "name": "stdout",
     "output_type": "stream",
     "text": [
      "<x: 734.847 N; y: 734.847 N; z: 600.000 N>\n",
      "<x: 734.847 N; y: 734.847 N; z: -600.000 N>\n"
     ]
    }
   ],
   "execution_count": 17
  },
  {
   "cell_type": "markdown",
   "id": "ee3196d1a44e7060",
   "metadata": {},
   "source": [
    "## Undetermined or Symbolic Force"
   ]
  },
  {
   "cell_type": "markdown",
   "id": "62e0bd4f1321089c",
   "metadata": {},
   "source": [
    "When a static system of forces is being considered, there might be forces in the system of which the magnitude and/or direction (angles `theta` and/or `gamma`) are still unknown. \n",
    "\n",
    "In a static 3D-system of forces, there are six equations available that allow us to solve for six unknowns in the system (the resultant of force components along the x-axis, y-axis, and z-axis must be zero, and also the resulting moment of these force components about the x-axis, y-axis, and z-axis must be zero). A fully undetermined 3D-force has three unknowns: magnitude, angle `theta` and angle `gamma`. \n",
    "\n",
    "In a static 2D-system of forces, there are only three equations available (the resultant of the x- and y-force components must be zero, and also the resulting moment of these force components about the z-axis must be zero). A fully undetermined 2D-force has two unknowns: magnitude and angle `theta`.\n",
    "\n",
    "To define an undetermined or symbolic force, the unknown values are given a symbolic name (a string). "
   ]
  },
  {
   "cell_type": "code",
   "id": "c0a2dfebf813703d",
   "metadata": {
    "ExecuteTime": {
     "end_time": "2024-06-10T10:10:56.212824Z",
     "start_time": "2024-06-10T10:10:56.208605Z"
    }
   },
   "source": [
    "F4 = Force(\n",
    "    action_point=Q_([3.0, 2.0], 'm'),\n",
    "    magnitude='F4',\n",
    "    theta='theta_4',\n",
    "    gamma='gamma_4'\n",
    ")"
   ],
   "outputs": [],
   "execution_count": 18
  },
  {
   "cell_type": "code",
   "id": "c445e1c330f7f6bd",
   "metadata": {
    "ExecuteTime": {
     "end_time": "2024-06-10T10:10:56.218044Z",
     "start_time": "2024-06-10T10:10:56.213835Z"
    }
   },
   "source": [
    "print(F4)"
   ],
   "outputs": [
    {
     "name": "stdout",
     "output_type": "stream",
     "text": [
      "<x: F4.x; y: F4.y; z: F4.z>\n"
     ]
    }
   ],
   "execution_count": 19
  },
  {
   "metadata": {},
   "cell_type": "markdown",
   "source": "Under the hood, the symbolic names (strings) are replaced by *Sympy* symbols. To solve the system of equations, the *Sympy* library is used.",
   "id": "951f89803d1a6fe7"
  },
  {
   "metadata": {
    "ExecuteTime": {
     "end_time": "2024-06-10T10:10:56.221538Z",
     "start_time": "2024-06-10T10:10:56.219051Z"
    }
   },
   "cell_type": "code",
   "source": "",
   "id": "91151ec2897258d8",
   "outputs": [],
   "execution_count": 19
  }
 ],
 "metadata": {
  "kernelspec": {
   "display_name": "Python 3 (ipykernel)",
   "language": "python",
   "name": "python3"
  },
  "language_info": {
   "codemirror_mode": {
    "name": "ipython",
    "version": 3
   },
   "file_extension": ".py",
   "mimetype": "text/x-python",
   "name": "python",
   "nbconvert_exporter": "python",
   "pygments_lexer": "ipython3",
   "version": "3.12.3"
  }
 },
 "nbformat": 4,
 "nbformat_minor": 5
}
