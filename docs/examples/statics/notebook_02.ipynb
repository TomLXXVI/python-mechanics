{
 "cells": [
  {
   "metadata": {},
   "cell_type": "markdown",
   "source": "# Example 1",
   "id": "4acf48fd3a4b6752"
  },
  {
   "metadata": {},
   "cell_type": "markdown",
   "source": "In this notebook example 1.1 from the book **Mechanics of Materials** (10th Edition in SI units) by R.C. Hibbeler will be solved using the *python-mechanics* library. To do this exercise, we need to import the following items from this library:",
   "id": "92b6ea7b8a81a569"
  },
  {
   "metadata": {
    "ExecuteTime": {
     "end_time": "2024-06-10T10:11:45.659912Z",
     "start_time": "2024-06-10T10:11:44.750046Z"
    }
   },
   "cell_type": "code",
   "source": [
    "from mechanics import Quantity\n",
    "from mechanics.statics import (\n",
    "    DistributedLoad2D,\n",
    "    FixedEnd2D,\n",
    "    Beam2D\n",
    ")"
   ],
   "id": "b91764663e7bdae3",
   "outputs": [],
   "execution_count": 1
  },
  {
   "metadata": {
    "ExecuteTime": {
     "end_time": "2024-06-10T10:11:45.664185Z",
     "start_time": "2024-06-10T10:11:45.660917Z"
    }
   },
   "cell_type": "code",
   "source": "Q_ = Quantity",
   "id": "2eac310c38908372",
   "outputs": [],
   "execution_count": 2
  },
  {
   "metadata": {},
   "cell_type": "markdown",
   "source": "It is asked to determine the resultant internal loadings acting on the cross section at C of the cantilevered beam shown in the image below.",
   "id": "643aa05db653d7c6"
  },
  {
   "metadata": {},
   "cell_type": "markdown",
   "source": "![image](./images/example_1-1.png)",
   "id": "4d0dcefcb517d163"
  },
  {
   "metadata": {},
   "cell_type": "markdown",
   "source": "## Define the Loads Acting on the Beam",
   "id": "726e38f18b47767"
  },
  {
   "metadata": {},
   "cell_type": "markdown",
   "source": "### Distributed Loading",
   "id": "88ea3cd743c41646"
  },
  {
   "metadata": {},
   "cell_type": "markdown",
   "source": "To define the distributed loading, the `DistributedLoad2D` class will be used and certain points on the loading diagram are to be specified. For the given diagram, it suffices to specify two points. The first point is at the left end of the beam (point A), where we also locate the origin of our coordinate system (the x-coordinate of point A is at 0 m). The second point is at the right end of the beam (point B). The x-coordinate of point B is at 3.6 m. The load per unit length at point A is 300 N/m and vertically downward. The x-axis of our coordinate system coincides with the horizontal centerline of the beam and is pointing to the right. As the coordinate system must be right-handed, the y-axis, going through the origin at point A, runs vertically and is pointing upward. Because the direction of the distributed loading is opposite to the positive sense of the y-axis, we need to add a minus sign to the load at point A. At point B the load is zero.",
   "id": "47a6c7e4b4247f0f"
  },
  {
   "metadata": {
    "ExecuteTime": {
     "end_time": "2024-06-10T10:11:45.675418Z",
     "start_time": "2024-06-10T10:11:45.668177Z"
    }
   },
   "cell_type": "code",
   "source": [
    "q = DistributedLoad2D(\n",
    "    points=[\n",
    "        (Q_(0, 'm'), Q_(-300, 'N / m')),\n",
    "        (Q_(3.6, 'm'), Q_(0, 'N / m'))\n",
    "    ]\n",
    ")"
   ],
   "id": "348681a860b47161",
   "outputs": [],
   "execution_count": 3
  },
  {
   "metadata": {},
   "cell_type": "markdown",
   "source": "Internally, the distributed loading will be replaced by an equivalent single concentrated force going through the centroid (geometric center) of the area under the distributed loading diagram. ",
   "id": "65cba7bd3c67683e"
  },
  {
   "metadata": {
    "ExecuteTime": {
     "end_time": "2024-06-10T10:11:45.685261Z",
     "start_time": "2024-06-10T10:11:45.676424Z"
    }
   },
   "cell_type": "code",
   "source": [
    "Q = q.resultant()\n",
    "\n",
    "print(Q)\n",
    "print(Q.action_point)"
   ],
   "id": "dfd4be0f2a8c4026",
   "outputs": [
    {
     "name": "stdout",
     "output_type": "stream",
     "text": [
      "<x: 0.000 N; y: -540.000 N; z: 0.000 N>\n",
      "(<Quantity(1.2, 'meter')>, <Quantity(0, 'meter')>, <Quantity(0, 'meter')>)\n"
     ]
    }
   ],
   "execution_count": 4
  },
  {
   "metadata": {},
   "cell_type": "markdown",
   "source": "### Fixed Wall Support",
   "id": "5c2f163f920bb944"
  },
  {
   "metadata": {},
   "cell_type": "markdown",
   "source": "At point A, the beam is fixed in a wall. A fixed support may exert a horizontal as well as a vertical reaction force, and also a reaction couple moment (reaction torque). To define the fixed end of the beam on the left, it suffices to use the `FixedEnd2D` class. We need to give the support a name and specify its position with respect to the origin of the coordinate system that we have chosen.   ",
   "id": "8ab426df0c37c4b9"
  },
  {
   "metadata": {
    "ExecuteTime": {
     "end_time": "2024-06-10T10:11:45.692453Z",
     "start_time": "2024-06-10T10:11:45.687269Z"
    }
   },
   "cell_type": "code",
   "source": [
    "A = FixedEnd2D(\n",
    "    name='A',\n",
    "    position=(Q_(0, 'm'), Q_(0, 'm'))\n",
    ")"
   ],
   "id": "79a653f1fe4865bb",
   "outputs": [],
   "execution_count": 5
  },
  {
   "metadata": {},
   "cell_type": "markdown",
   "source": "## Define the Beam",
   "id": "fb8bb0976e799a2f"
  },
  {
   "metadata": {},
   "cell_type": "markdown",
   "source": "Once the loads and the supports of a beam are defined, we can define the beam using the `Beam2D` class and add the loads to it. To define the beam, we also need to specify its length.",
   "id": "432a1eb4c1d37b67"
  },
  {
   "metadata": {
    "ExecuteTime": {
     "end_time": "2024-06-10T10:11:45.698061Z",
     "start_time": "2024-06-10T10:11:45.693461Z"
    }
   },
   "cell_type": "code",
   "source": [
    "beam = Beam2D(\n",
    "    length=Q_(3.6, 'm'), \n",
    "    loads=[q], \n",
    "    supports=[A]\n",
    ")"
   ],
   "id": "19c327adf7f627c2",
   "outputs": [],
   "execution_count": 6
  },
  {
   "metadata": {},
   "cell_type": "markdown",
   "source": "### Reaction Forces and Torque at Point A",
   "id": "f33e7bf3e4ae093d"
  },
  {
   "metadata": {},
   "cell_type": "markdown",
   "source": "Now, we can get the reaction forces at the fixed end (point A) of the beam, by calling the method `get_reactions()` on our `Beam2D` instance.",
   "id": "844f3a145373bc8f"
  },
  {
   "metadata": {
    "ExecuteTime": {
     "end_time": "2024-06-10T10:11:45.761264Z",
     "start_time": "2024-06-10T10:11:45.699068Z"
    }
   },
   "cell_type": "code",
   "source": [
    "forces, torques = beam.get_reactions()\n",
    "\n",
    "for name, force in forces.items():\n",
    "    print(f\"{name}: {force}\")\n",
    "\n",
    "for name, torque in torques.items():\n",
    "    print(f\"{name}: {torque}\")"
   ],
   "id": "5a8899d6c05b3636",
   "outputs": [
    {
     "name": "stdout",
     "output_type": "stream",
     "text": [
      "A: <x: -0.000 N; y: 540.000 N; z: 0.000 N>\n",
      "A: <x: 0.000 N·m; y: 0.000 N·m; z: 648.000 N·m>\n"
     ]
    }
   ],
   "execution_count": 7
  },
  {
   "metadata": {},
   "cell_type": "markdown",
   "source": "At point A the fixed wall support exerts a vertical reaction force on the beam in the positive y-direction, i.e. upward. It also exerts a positive reaction torque along the z-axis. As the positive x-axis of our right-handed coordinate system points to the right, and the positive y-axis points upward, the positive direction of the z-axis is determined by the right-hand rule: when the fingers of our right hand are curled from the positive x-axis toward the positive y-axis (i.e. in the counter-clockwise sense), our right thumb will indicate the positive z-axis direction. As the reaction torque exerted by the fixed wall support has a positive sign, it operates in a counter-clockwise sense about point A of the beam.",
   "id": "e5dbd6b18db45efe"
  },
  {
   "metadata": {},
   "cell_type": "markdown",
   "source": "### Resultant Internal Loadings at Point C",
   "id": "12bc7023088c660b"
  },
  {
   "metadata": {},
   "cell_type": "markdown",
   "source": [
    "To determine the resultant internal loadings at point C, we make an imaginary section or straight cut through the beam at point C. Then, we can determine the internal forces and moments in the cross-section of the beam at point C such that the left or right part of the beam remains in static equilibrium with the external forces that are acting on that part of the beam. \n",
    "\n",
    "To make the cut and determine the internal forces and/or moments, we will call the method `cut(...)` on our `Beam2D` instance. We need to indicate the position along the beam where we want to make the cut (only the x-coordinate of this position is sufficient, as the centerline of the beam lies on the x-axis of our coordinate system) and we also need to specify which part of the beam we want to consider: either the left part (this is the default), or the right part.\n",
    "\n",
    "> It can be noticed here that, depending on the specific situation, it might be unnecessary to determine first the external reaction forces and/or moments which are acting on the beam. In this example, if we would take the right part of the beam, we actually don't need to know the reaction forces/torques at point A to be able to find the resultant internal loadings at point C."
   ],
   "id": "751c8c5f44e3286d"
  },
  {
   "metadata": {
    "ExecuteTime": {
     "end_time": "2024-06-10T10:11:45.790432Z",
     "start_time": "2024-06-10T10:11:45.762276Z"
    }
   },
   "cell_type": "code",
   "source": [
    "internal_load_C = beam.cut(x=Q_(1.2, 'm'), side='left')\n",
    "\n",
    "print(\n",
    "    internal_load_C['F_x'],\n",
    "    internal_load_C['F_y'],\n",
    "    internal_load_C['M_z']\n",
    ")"
   ],
   "id": "68b3934721cad8c8",
   "outputs": [
    {
     "name": "stdout",
     "output_type": "stream",
     "text": [
      "0.0 newton -240.0 newton -192.0 meter * newton\n"
     ]
    }
   ],
   "execution_count": 8
  },
  {
   "metadata": {},
   "cell_type": "markdown",
   "source": [
    "Method `cut(...)` returns a dictionary with three keys: the axial force component `F_x` that pushes or pulls on the cross-section, the transversal force component `F_y` that exerts a shear force in the cross-section, and the moment `M_z` that exerts a bending moment in the cross-section. In this example the axial component is zero, as there are no external axial loads acting on the beam. In the left-sided cross-section at point C of the beam a resultant shear force is present acting downward and also a negative, i.e. clockwise, bending moment, which pushes on the lower part of the left-sided cross-section and pulls on its upper part.\n",
    "\n",
    "By considering the left part of the beam, it is necessary that the reaction forces/torques at point A are determined first, before the method `cut(...)` is called. Should we have decided to consider the right part of the beam, only the external distributed loading would have been needed to determine the internal loading in the right-sided cross-section at point C of the beam.\n",
    "\n",
    "If we look at the right-sided cross-section in point C of the beam, we get:"
   ],
   "id": "60ad8840ace7693e"
  },
  {
   "metadata": {
    "ExecuteTime": {
     "end_time": "2024-06-10T10:11:45.811731Z",
     "start_time": "2024-06-10T10:11:45.791439Z"
    }
   },
   "cell_type": "code",
   "source": [
    "internal_load_C = beam.cut(x=Q_(1.2, 'm'), side='right')\n",
    "\n",
    "print(\n",
    "    internal_load_C['F_x'],\n",
    "    internal_load_C['F_y'],\n",
    "    internal_load_C['M_z']\n",
    ")"
   ],
   "id": "972a549104b49aed",
   "outputs": [
    {
     "name": "stdout",
     "output_type": "stream",
     "text": [
      "-0.0 newton 240.0 newton 192.0 meter * newton\n"
     ]
    }
   ],
   "execution_count": 9
  },
  {
   "metadata": {},
   "cell_type": "markdown",
   "source": "We notice that the magnitudes of the internal shear force and the internal bending moment in the right-sided cross-section and in the left-sided cross-section are the same, but they have an opposite sign. This makes sense, as the internal forces and moments on both sides of the cross-section must be in static equilibrium.",
   "id": "9ee9e8d1f25970bf"
  },
  {
   "metadata": {
    "ExecuteTime": {
     "end_time": "2024-06-10T10:11:45.815843Z",
     "start_time": "2024-06-10T10:11:45.812738Z"
    }
   },
   "cell_type": "code",
   "source": "",
   "id": "32a7005b44652ec1",
   "outputs": [],
   "execution_count": 9
  }
 ],
 "metadata": {
  "kernelspec": {
   "display_name": "Python 3",
   "language": "python",
   "name": "python3"
  },
  "language_info": {
   "codemirror_mode": {
    "name": "ipython",
    "version": 2
   },
   "file_extension": ".py",
   "mimetype": "text/x-python",
   "name": "python",
   "nbconvert_exporter": "python",
   "pygments_lexer": "ipython2",
   "version": "2.7.6"
  }
 },
 "nbformat": 4,
 "nbformat_minor": 5
}
